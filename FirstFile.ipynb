import pandas as pd
import numpy as np
import sklearn

def square(x):
  return x**2 - 1

def power_4(x):
  return x**4

